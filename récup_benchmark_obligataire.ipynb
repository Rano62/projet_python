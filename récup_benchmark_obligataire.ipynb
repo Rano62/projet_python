{
  "nbformat": 4,
  "nbformat_minor": 0,
  "metadata": {
    "colab": {
      "name": "récup_benchmark_obligataire.ipynb",
      "provenance": [],
      "authorship_tag": "ABX9TyN1qSKKLo3a350EW1rxGAFR",
      "include_colab_link": true
    },
    "kernelspec": {
      "name": "python3",
      "display_name": "Python 3"
    },
    "language_info": {
      "name": "python"
    }
  },
  "cells": [
    {
      "cell_type": "markdown",
      "metadata": {
        "id": "view-in-github",
        "colab_type": "text"
      },
      "source": [
        "<a href=\"https://colab.research.google.com/github/Rano62/projet_python/blob/master/r%C3%A9cup_benchmark_obligataire.ipynb\" target=\"_parent\"><img src=\"https://colab.research.google.com/assets/colab-badge.svg\" alt=\"Open In Colab\"/></a>"
      ]
    },
    {
      "cell_type": "code",
      "source": [
        "!apt update\n",
        "!apt install chromium-chromedriver\n",
        "!pip install selenium\n",
        "\n",
        "\n",
        "from selenium.webdriver.common.by import By\n",
        "import pandas as pd\n",
        "\n",
        "# set options to be headless, ..\n",
        "from selenium import webdriver\n",
        "from time import sleep\n",
        "\n",
        "options = webdriver.ChromeOptions()\n",
        "options.add_argument('--headless')\n",
        "options.add_argument('--no-sandbox')\n",
        "options.add_argument('--disable-dev-shm-usage')\n",
        "# open it, go to a website, and get results"
      ],
      "metadata": {
        "id": "dUvChT71I-aR"
      },
      "execution_count": null,
      "outputs": []
    },
    {
      "cell_type": "code",
      "execution_count": 37,
      "metadata": {
        "id": "7ikRFzQ1EvDh"
      },
      "outputs": [],
      "source": [
        "\n",
        "wd = webdriver.Chrome(options=options)\n",
        "\n",
        "wd.get(\"https://www.boursorama.com/bourse/taux/cours/2xUSABM10A/\")\n",
        "\n",
        "sleep(5)\n",
        "\n",
        "content=wd.find_element(By.XPATH, '/html/body/main/div/section[1]/div[2]/article/div[1]/div/div[1]/div[2]/div[2]/div[1]/div[3]/div[3]').click()\n",
        "\n",
        "sleep(5)\n",
        "\n",
        "data=wd.find_element(By.XPATH,'/html/body/main/div/section[1]/div[2]/article/div[1]/div/div[1]/div[2]/div[2]/div[1]/div[4]/div[4]/div/span').click()\n",
        "\n",
        "sleep(5)\n"
      ]
    },
    {
      "cell_type": "markdown",
      "source": [
        "code alternatif avec remplacement du détail par *"
      ],
      "metadata": {
        "id": "ZjA_RPw7ktdG"
      }
    },
    {
      "cell_type": "markdown",
      "source": [
        "USA BENCHMARK 10A"
      ],
      "metadata": {
        "id": "UYU-fXlVlNdJ"
      }
    },
    {
      "cell_type": "code",
      "source": [
        "wd = webdriver.Chrome(options=options)\n",
        "\n",
        "wd.get(\"https://www.boursorama.com/bourse/taux/cours/2xUSABM10A/\")\n",
        "\n",
        "sleep(5)\n",
        "\n",
        "content=wd.find_element(By.XPATH, '/html/body/main/*/*/*/*/*/*/*/*/*/*/*/div[3]').click()\n",
        "\n",
        "sleep(5)\n",
        "\n",
        "data=wd.find_element(By.XPATH,'/html/body/main/div/section[1]/div[2]/article/div[1]/div/div[1]/div[2]/div[2]/div[1]/div[4]/div[4]/div/span').click()\n",
        "\n",
        "sleep(5)"
      ],
      "metadata": {
        "id": "ZYnl1K2JjeAz"
      },
      "execution_count": 38,
      "outputs": []
    },
    {
      "cell_type": "code",
      "source": [
        "https://www.boursorama.com/bourse/taux/cours/2xFRABM10A/"
      ],
      "metadata": {
        "id": "LgU-d1_8kqJr"
      },
      "execution_count": null,
      "outputs": []
    },
    {
      "cell_type": "markdown",
      "source": [
        "OAT 10 ans"
      ],
      "metadata": {
        "id": "1X1xN2VXlEnM"
      }
    },
    {
      "cell_type": "code",
      "source": [
        "wd = webdriver.Chrome(options=options)\n",
        "\n",
        "wd.get(\"https://www.boursorama.com/bourse/taux/cours/2xFRABM10A/\")\n",
        "\n",
        "sleep(5)\n",
        "\n",
        "content=wd.find_element(By.XPATH, '/html/body/main/*/*/*/*/*/*/*/*/*/*/*/div[3]').click()\n",
        "\n",
        "sleep(5)\n",
        "\n",
        "data=wd.find_element(By.XPATH,'/html/body/main/div/section[1]/div[2]/article/div[1]/div/div[1]/div[2]/div[2]/div[1]/div[4]/div[4]/div/span').click()\n",
        "\n",
        "sleep(5)"
      ],
      "metadata": {
        "id": "LFpma3A-k_xc"
      },
      "execution_count": 39,
      "outputs": []
    }
  ]
}